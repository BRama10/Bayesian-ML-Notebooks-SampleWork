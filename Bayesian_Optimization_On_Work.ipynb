{
  "nbformat": 4,
  "nbformat_minor": 0,
  "metadata": {
    "colab": {
      "provenance": [],
      "collapsed_sections": [
        "SEmc8u4anfrL"
      ],
      "include_colab_link": true
    },
    "kernelspec": {
      "name": "python3",
      "display_name": "Python 3"
    },
    "language_info": {
      "name": "python"
    },
    "gpuClass": "standard"
  },
  "cells": [
    {
      "cell_type": "markdown",
      "metadata": {
        "id": "view-in-github",
        "colab_type": "text"
      },
      "source": [
        "<a href=\"https://colab.research.google.com/github/BRama10/Bayesian-ML-Notebooks-SampleWork/blob/main/Bayesian_Optimization_On_Work.ipynb\" target=\"_parent\"><img src=\"https://colab.research.google.com/assets/colab-badge.svg\" alt=\"Open In Colab\"/></a>"
      ]
    },
    {
      "cell_type": "code",
      "source": [
        "#Displays runtime for a particular cell\n",
        "\n",
        "!pip install ipython-autotime\n",
        "%load_ext autotime"
      ],
      "metadata": {
        "colab": {
          "base_uri": "https://localhost:8080/"
        },
        "id": "wUgMgHikGBZ5",
        "outputId": "ad3723a5-ec7b-4d32-b0d8-19febeed71eb"
      },
      "execution_count": null,
      "outputs": [
        {
          "output_type": "stream",
          "name": "stdout",
          "text": [
            "Looking in indexes: https://pypi.org/simple, https://us-python.pkg.dev/colab-wheels/public/simple/\n",
            "Collecting ipython-autotime\n",
            "  Downloading ipython_autotime-0.3.1-py2.py3-none-any.whl (6.8 kB)\n",
            "Requirement already satisfied: ipython in /usr/local/lib/python3.7/dist-packages (from ipython-autotime) (5.5.0)\n",
            "Requirement already satisfied: simplegeneric>0.8 in /usr/local/lib/python3.7/dist-packages (from ipython->ipython-autotime) (0.8.1)\n",
            "Requirement already satisfied: pygments in /usr/local/lib/python3.7/dist-packages (from ipython->ipython-autotime) (2.6.1)\n",
            "Requirement already satisfied: decorator in /usr/local/lib/python3.7/dist-packages (from ipython->ipython-autotime) (4.4.2)\n",
            "Requirement already satisfied: prompt-toolkit<2.0.0,>=1.0.4 in /usr/local/lib/python3.7/dist-packages (from ipython->ipython-autotime) (1.0.18)\n",
            "Requirement already satisfied: pickleshare in /usr/local/lib/python3.7/dist-packages (from ipython->ipython-autotime) (0.7.5)\n",
            "Requirement already satisfied: pexpect in /usr/local/lib/python3.7/dist-packages (from ipython->ipython-autotime) (4.8.0)\n",
            "Requirement already satisfied: traitlets>=4.2 in /usr/local/lib/python3.7/dist-packages (from ipython->ipython-autotime) (5.1.1)\n",
            "Requirement already satisfied: setuptools>=18.5 in /usr/local/lib/python3.7/dist-packages (from ipython->ipython-autotime) (57.4.0)\n",
            "Requirement already satisfied: wcwidth in /usr/local/lib/python3.7/dist-packages (from prompt-toolkit<2.0.0,>=1.0.4->ipython->ipython-autotime) (0.2.5)\n",
            "Requirement already satisfied: six>=1.9.0 in /usr/local/lib/python3.7/dist-packages (from prompt-toolkit<2.0.0,>=1.0.4->ipython->ipython-autotime) (1.15.0)\n",
            "Requirement already satisfied: ptyprocess>=0.5 in /usr/local/lib/python3.7/dist-packages (from pexpect->ipython->ipython-autotime) (0.7.0)\n",
            "Installing collected packages: ipython-autotime\n",
            "Successfully installed ipython-autotime-0.3.1\n",
            "time: 233 µs (started: 2022-07-29 00:47:53 +00:00)\n"
          ]
        }
      ]
    },
    {
      "cell_type": "markdown",
      "source": [
        "#Ionosphere - Working with Bayesian Optimization using skopt\n"
      ],
      "metadata": {
        "id": "SEmc8u4anfrL"
      }
    },
    {
      "cell_type": "markdown",
      "source": [
        "##Import dataset"
      ],
      "metadata": {
        "id": "Vq-CW39Fnk7M"
      }
    },
    {
      "cell_type": "code",
      "source": [
        "import pandas as pd\n",
        "\n",
        "df = pd.read_csv('https://raw.githubusercontent.com/jbrownlee/Datasets/master/ionosphere.csv')\n",
        "X, y = df.iloc[:, :-1], df.iloc[:, -1]\n",
        "df"
      ],
      "metadata": {
        "colab": {
          "base_uri": "https://localhost:8080/",
          "height": 441
        },
        "id": "hFvTvu7qnpPi",
        "outputId": "92dbd290-f522-4ae4-e26e-2973444b4827"
      },
      "execution_count": null,
      "outputs": [
        {
          "output_type": "execute_result",
          "data": {
            "text/plain": [
              "     1  0  0.99539  -0.05889  0.85243  0.02306  0.83398  -0.37708      1.1  \\\n",
              "0    1  0  1.00000  -0.18829  0.93035 -0.36156 -0.10868  -0.93597  1.00000   \n",
              "1    1  0  1.00000  -0.03365  1.00000  0.00485  1.00000  -0.12062  0.88965   \n",
              "2    1  0  1.00000  -0.45161  1.00000  1.00000  0.71216  -1.00000  0.00000   \n",
              "3    1  0  1.00000  -0.02401  0.94140  0.06531  0.92106  -0.23255  0.77152   \n",
              "4    1  0  0.02337  -0.00592 -0.09924 -0.11949 -0.00763  -0.11824  0.14706   \n",
              "..  .. ..      ...       ...      ...      ...      ...       ...      ...   \n",
              "345  1  0  0.83508   0.08298  0.73739 -0.14706  0.84349  -0.05567  0.90441   \n",
              "346  1  0  0.95113   0.00419  0.95183 -0.02723  0.93438  -0.01920  0.94590   \n",
              "347  1  0  0.94701  -0.00034  0.93207 -0.03227  0.95177  -0.03431  0.95584   \n",
              "348  1  0  0.90608  -0.01657  0.98122 -0.01989  0.95691  -0.03646  0.85746   \n",
              "349  1  0  0.84710   0.13533  0.73638 -0.06151  0.87873   0.08260  0.88928   \n",
              "\n",
              "     0.03760  ...  -0.51171  0.41078  -0.46168  0.21266  -0.34090  0.42267  \\\n",
              "0   -0.04549  ...  -0.26569 -0.20468  -0.18401 -0.19040  -0.11593 -0.16626   \n",
              "1    0.01198  ...  -0.40220  0.58984  -0.22145  0.43100  -0.17365  0.60436   \n",
              "2    0.00000  ...   0.90695  0.51613   1.00000  1.00000  -0.20099  0.25682   \n",
              "3   -0.16399  ...  -0.65158  0.13290  -0.53206  0.02431  -0.62197 -0.05707   \n",
              "4    0.06637  ...  -0.01535 -0.03240   0.09223 -0.07859   0.00732  0.00000   \n",
              "..       ...  ...       ...      ...       ...      ...       ...      ...   \n",
              "345 -0.04622  ...  -0.04202  0.83479   0.00123  1.00000   0.12815  0.86660   \n",
              "346  0.01606  ...   0.01361  0.93522   0.04925  0.93159   0.08168  0.94066   \n",
              "347  0.02446  ...   0.03193  0.92489   0.02542  0.92120   0.02242  0.92459   \n",
              "348  0.00110  ...  -0.02099  0.89147  -0.07760  0.82983  -0.17238  0.96022   \n",
              "349 -0.09139  ...  -0.15114  0.81147  -0.04822  0.78207  -0.00703  0.75747   \n",
              "\n",
              "     -0.54487  0.18641  -0.45300  g  \n",
              "0    -0.06288 -0.13738  -0.02447  b  \n",
              "1    -0.24180  0.56045  -0.38238  g  \n",
              "2     1.00000 -0.32382   1.00000  b  \n",
              "3    -0.59573 -0.04608  -0.65697  g  \n",
              "4     0.00000 -0.00039   0.12011  b  \n",
              "..        ...      ...       ... ..  \n",
              "345  -0.10714  0.90546  -0.04307  g  \n",
              "346  -0.00035  0.91483   0.04712  g  \n",
              "347   0.00442  0.92697  -0.00577  g  \n",
              "348  -0.03757  0.87403  -0.16243  g  \n",
              "349  -0.06678  0.85764  -0.06151  g  \n",
              "\n",
              "[350 rows x 35 columns]"
            ],
            "text/html": [
              "\n",
              "  <div id=\"df-b50e4d46-9d11-43f1-bcda-18a03472e6ad\">\n",
              "    <div class=\"colab-df-container\">\n",
              "      <div>\n",
              "<style scoped>\n",
              "    .dataframe tbody tr th:only-of-type {\n",
              "        vertical-align: middle;\n",
              "    }\n",
              "\n",
              "    .dataframe tbody tr th {\n",
              "        vertical-align: top;\n",
              "    }\n",
              "\n",
              "    .dataframe thead th {\n",
              "        text-align: right;\n",
              "    }\n",
              "</style>\n",
              "<table border=\"1\" class=\"dataframe\">\n",
              "  <thead>\n",
              "    <tr style=\"text-align: right;\">\n",
              "      <th></th>\n",
              "      <th>1</th>\n",
              "      <th>0</th>\n",
              "      <th>0.99539</th>\n",
              "      <th>-0.05889</th>\n",
              "      <th>0.85243</th>\n",
              "      <th>0.02306</th>\n",
              "      <th>0.83398</th>\n",
              "      <th>-0.37708</th>\n",
              "      <th>1.1</th>\n",
              "      <th>0.03760</th>\n",
              "      <th>...</th>\n",
              "      <th>-0.51171</th>\n",
              "      <th>0.41078</th>\n",
              "      <th>-0.46168</th>\n",
              "      <th>0.21266</th>\n",
              "      <th>-0.34090</th>\n",
              "      <th>0.42267</th>\n",
              "      <th>-0.54487</th>\n",
              "      <th>0.18641</th>\n",
              "      <th>-0.45300</th>\n",
              "      <th>g</th>\n",
              "    </tr>\n",
              "  </thead>\n",
              "  <tbody>\n",
              "    <tr>\n",
              "      <th>0</th>\n",
              "      <td>1</td>\n",
              "      <td>0</td>\n",
              "      <td>1.00000</td>\n",
              "      <td>-0.18829</td>\n",
              "      <td>0.93035</td>\n",
              "      <td>-0.36156</td>\n",
              "      <td>-0.10868</td>\n",
              "      <td>-0.93597</td>\n",
              "      <td>1.00000</td>\n",
              "      <td>-0.04549</td>\n",
              "      <td>...</td>\n",
              "      <td>-0.26569</td>\n",
              "      <td>-0.20468</td>\n",
              "      <td>-0.18401</td>\n",
              "      <td>-0.19040</td>\n",
              "      <td>-0.11593</td>\n",
              "      <td>-0.16626</td>\n",
              "      <td>-0.06288</td>\n",
              "      <td>-0.13738</td>\n",
              "      <td>-0.02447</td>\n",
              "      <td>b</td>\n",
              "    </tr>\n",
              "    <tr>\n",
              "      <th>1</th>\n",
              "      <td>1</td>\n",
              "      <td>0</td>\n",
              "      <td>1.00000</td>\n",
              "      <td>-0.03365</td>\n",
              "      <td>1.00000</td>\n",
              "      <td>0.00485</td>\n",
              "      <td>1.00000</td>\n",
              "      <td>-0.12062</td>\n",
              "      <td>0.88965</td>\n",
              "      <td>0.01198</td>\n",
              "      <td>...</td>\n",
              "      <td>-0.40220</td>\n",
              "      <td>0.58984</td>\n",
              "      <td>-0.22145</td>\n",
              "      <td>0.43100</td>\n",
              "      <td>-0.17365</td>\n",
              "      <td>0.60436</td>\n",
              "      <td>-0.24180</td>\n",
              "      <td>0.56045</td>\n",
              "      <td>-0.38238</td>\n",
              "      <td>g</td>\n",
              "    </tr>\n",
              "    <tr>\n",
              "      <th>2</th>\n",
              "      <td>1</td>\n",
              "      <td>0</td>\n",
              "      <td>1.00000</td>\n",
              "      <td>-0.45161</td>\n",
              "      <td>1.00000</td>\n",
              "      <td>1.00000</td>\n",
              "      <td>0.71216</td>\n",
              "      <td>-1.00000</td>\n",
              "      <td>0.00000</td>\n",
              "      <td>0.00000</td>\n",
              "      <td>...</td>\n",
              "      <td>0.90695</td>\n",
              "      <td>0.51613</td>\n",
              "      <td>1.00000</td>\n",
              "      <td>1.00000</td>\n",
              "      <td>-0.20099</td>\n",
              "      <td>0.25682</td>\n",
              "      <td>1.00000</td>\n",
              "      <td>-0.32382</td>\n",
              "      <td>1.00000</td>\n",
              "      <td>b</td>\n",
              "    </tr>\n",
              "    <tr>\n",
              "      <th>3</th>\n",
              "      <td>1</td>\n",
              "      <td>0</td>\n",
              "      <td>1.00000</td>\n",
              "      <td>-0.02401</td>\n",
              "      <td>0.94140</td>\n",
              "      <td>0.06531</td>\n",
              "      <td>0.92106</td>\n",
              "      <td>-0.23255</td>\n",
              "      <td>0.77152</td>\n",
              "      <td>-0.16399</td>\n",
              "      <td>...</td>\n",
              "      <td>-0.65158</td>\n",
              "      <td>0.13290</td>\n",
              "      <td>-0.53206</td>\n",
              "      <td>0.02431</td>\n",
              "      <td>-0.62197</td>\n",
              "      <td>-0.05707</td>\n",
              "      <td>-0.59573</td>\n",
              "      <td>-0.04608</td>\n",
              "      <td>-0.65697</td>\n",
              "      <td>g</td>\n",
              "    </tr>\n",
              "    <tr>\n",
              "      <th>4</th>\n",
              "      <td>1</td>\n",
              "      <td>0</td>\n",
              "      <td>0.02337</td>\n",
              "      <td>-0.00592</td>\n",
              "      <td>-0.09924</td>\n",
              "      <td>-0.11949</td>\n",
              "      <td>-0.00763</td>\n",
              "      <td>-0.11824</td>\n",
              "      <td>0.14706</td>\n",
              "      <td>0.06637</td>\n",
              "      <td>...</td>\n",
              "      <td>-0.01535</td>\n",
              "      <td>-0.03240</td>\n",
              "      <td>0.09223</td>\n",
              "      <td>-0.07859</td>\n",
              "      <td>0.00732</td>\n",
              "      <td>0.00000</td>\n",
              "      <td>0.00000</td>\n",
              "      <td>-0.00039</td>\n",
              "      <td>0.12011</td>\n",
              "      <td>b</td>\n",
              "    </tr>\n",
              "    <tr>\n",
              "      <th>...</th>\n",
              "      <td>...</td>\n",
              "      <td>...</td>\n",
              "      <td>...</td>\n",
              "      <td>...</td>\n",
              "      <td>...</td>\n",
              "      <td>...</td>\n",
              "      <td>...</td>\n",
              "      <td>...</td>\n",
              "      <td>...</td>\n",
              "      <td>...</td>\n",
              "      <td>...</td>\n",
              "      <td>...</td>\n",
              "      <td>...</td>\n",
              "      <td>...</td>\n",
              "      <td>...</td>\n",
              "      <td>...</td>\n",
              "      <td>...</td>\n",
              "      <td>...</td>\n",
              "      <td>...</td>\n",
              "      <td>...</td>\n",
              "      <td>...</td>\n",
              "    </tr>\n",
              "    <tr>\n",
              "      <th>345</th>\n",
              "      <td>1</td>\n",
              "      <td>0</td>\n",
              "      <td>0.83508</td>\n",
              "      <td>0.08298</td>\n",
              "      <td>0.73739</td>\n",
              "      <td>-0.14706</td>\n",
              "      <td>0.84349</td>\n",
              "      <td>-0.05567</td>\n",
              "      <td>0.90441</td>\n",
              "      <td>-0.04622</td>\n",
              "      <td>...</td>\n",
              "      <td>-0.04202</td>\n",
              "      <td>0.83479</td>\n",
              "      <td>0.00123</td>\n",
              "      <td>1.00000</td>\n",
              "      <td>0.12815</td>\n",
              "      <td>0.86660</td>\n",
              "      <td>-0.10714</td>\n",
              "      <td>0.90546</td>\n",
              "      <td>-0.04307</td>\n",
              "      <td>g</td>\n",
              "    </tr>\n",
              "    <tr>\n",
              "      <th>346</th>\n",
              "      <td>1</td>\n",
              "      <td>0</td>\n",
              "      <td>0.95113</td>\n",
              "      <td>0.00419</td>\n",
              "      <td>0.95183</td>\n",
              "      <td>-0.02723</td>\n",
              "      <td>0.93438</td>\n",
              "      <td>-0.01920</td>\n",
              "      <td>0.94590</td>\n",
              "      <td>0.01606</td>\n",
              "      <td>...</td>\n",
              "      <td>0.01361</td>\n",
              "      <td>0.93522</td>\n",
              "      <td>0.04925</td>\n",
              "      <td>0.93159</td>\n",
              "      <td>0.08168</td>\n",
              "      <td>0.94066</td>\n",
              "      <td>-0.00035</td>\n",
              "      <td>0.91483</td>\n",
              "      <td>0.04712</td>\n",
              "      <td>g</td>\n",
              "    </tr>\n",
              "    <tr>\n",
              "      <th>347</th>\n",
              "      <td>1</td>\n",
              "      <td>0</td>\n",
              "      <td>0.94701</td>\n",
              "      <td>-0.00034</td>\n",
              "      <td>0.93207</td>\n",
              "      <td>-0.03227</td>\n",
              "      <td>0.95177</td>\n",
              "      <td>-0.03431</td>\n",
              "      <td>0.95584</td>\n",
              "      <td>0.02446</td>\n",
              "      <td>...</td>\n",
              "      <td>0.03193</td>\n",
              "      <td>0.92489</td>\n",
              "      <td>0.02542</td>\n",
              "      <td>0.92120</td>\n",
              "      <td>0.02242</td>\n",
              "      <td>0.92459</td>\n",
              "      <td>0.00442</td>\n",
              "      <td>0.92697</td>\n",
              "      <td>-0.00577</td>\n",
              "      <td>g</td>\n",
              "    </tr>\n",
              "    <tr>\n",
              "      <th>348</th>\n",
              "      <td>1</td>\n",
              "      <td>0</td>\n",
              "      <td>0.90608</td>\n",
              "      <td>-0.01657</td>\n",
              "      <td>0.98122</td>\n",
              "      <td>-0.01989</td>\n",
              "      <td>0.95691</td>\n",
              "      <td>-0.03646</td>\n",
              "      <td>0.85746</td>\n",
              "      <td>0.00110</td>\n",
              "      <td>...</td>\n",
              "      <td>-0.02099</td>\n",
              "      <td>0.89147</td>\n",
              "      <td>-0.07760</td>\n",
              "      <td>0.82983</td>\n",
              "      <td>-0.17238</td>\n",
              "      <td>0.96022</td>\n",
              "      <td>-0.03757</td>\n",
              "      <td>0.87403</td>\n",
              "      <td>-0.16243</td>\n",
              "      <td>g</td>\n",
              "    </tr>\n",
              "    <tr>\n",
              "      <th>349</th>\n",
              "      <td>1</td>\n",
              "      <td>0</td>\n",
              "      <td>0.84710</td>\n",
              "      <td>0.13533</td>\n",
              "      <td>0.73638</td>\n",
              "      <td>-0.06151</td>\n",
              "      <td>0.87873</td>\n",
              "      <td>0.08260</td>\n",
              "      <td>0.88928</td>\n",
              "      <td>-0.09139</td>\n",
              "      <td>...</td>\n",
              "      <td>-0.15114</td>\n",
              "      <td>0.81147</td>\n",
              "      <td>-0.04822</td>\n",
              "      <td>0.78207</td>\n",
              "      <td>-0.00703</td>\n",
              "      <td>0.75747</td>\n",
              "      <td>-0.06678</td>\n",
              "      <td>0.85764</td>\n",
              "      <td>-0.06151</td>\n",
              "      <td>g</td>\n",
              "    </tr>\n",
              "  </tbody>\n",
              "</table>\n",
              "<p>350 rows × 35 columns</p>\n",
              "</div>\n",
              "      <button class=\"colab-df-convert\" onclick=\"convertToInteractive('df-b50e4d46-9d11-43f1-bcda-18a03472e6ad')\"\n",
              "              title=\"Convert this dataframe to an interactive table.\"\n",
              "              style=\"display:none;\">\n",
              "        \n",
              "  <svg xmlns=\"http://www.w3.org/2000/svg\" height=\"24px\"viewBox=\"0 0 24 24\"\n",
              "       width=\"24px\">\n",
              "    <path d=\"M0 0h24v24H0V0z\" fill=\"none\"/>\n",
              "    <path d=\"M18.56 5.44l.94 2.06.94-2.06 2.06-.94-2.06-.94-.94-2.06-.94 2.06-2.06.94zm-11 1L8.5 8.5l.94-2.06 2.06-.94-2.06-.94L8.5 2.5l-.94 2.06-2.06.94zm10 10l.94 2.06.94-2.06 2.06-.94-2.06-.94-.94-2.06-.94 2.06-2.06.94z\"/><path d=\"M17.41 7.96l-1.37-1.37c-.4-.4-.92-.59-1.43-.59-.52 0-1.04.2-1.43.59L10.3 9.45l-7.72 7.72c-.78.78-.78 2.05 0 2.83L4 21.41c.39.39.9.59 1.41.59.51 0 1.02-.2 1.41-.59l7.78-7.78 2.81-2.81c.8-.78.8-2.07 0-2.86zM5.41 20L4 18.59l7.72-7.72 1.47 1.35L5.41 20z\"/>\n",
              "  </svg>\n",
              "      </button>\n",
              "      \n",
              "  <style>\n",
              "    .colab-df-container {\n",
              "      display:flex;\n",
              "      flex-wrap:wrap;\n",
              "      gap: 12px;\n",
              "    }\n",
              "\n",
              "    .colab-df-convert {\n",
              "      background-color: #E8F0FE;\n",
              "      border: none;\n",
              "      border-radius: 50%;\n",
              "      cursor: pointer;\n",
              "      display: none;\n",
              "      fill: #1967D2;\n",
              "      height: 32px;\n",
              "      padding: 0 0 0 0;\n",
              "      width: 32px;\n",
              "    }\n",
              "\n",
              "    .colab-df-convert:hover {\n",
              "      background-color: #E2EBFA;\n",
              "      box-shadow: 0px 1px 2px rgba(60, 64, 67, 0.3), 0px 1px 3px 1px rgba(60, 64, 67, 0.15);\n",
              "      fill: #174EA6;\n",
              "    }\n",
              "\n",
              "    [theme=dark] .colab-df-convert {\n",
              "      background-color: #3B4455;\n",
              "      fill: #D2E3FC;\n",
              "    }\n",
              "\n",
              "    [theme=dark] .colab-df-convert:hover {\n",
              "      background-color: #434B5C;\n",
              "      box-shadow: 0px 1px 3px 1px rgba(0, 0, 0, 0.15);\n",
              "      filter: drop-shadow(0px 1px 2px rgba(0, 0, 0, 0.3));\n",
              "      fill: #FFFFFF;\n",
              "    }\n",
              "  </style>\n",
              "\n",
              "      <script>\n",
              "        const buttonEl =\n",
              "          document.querySelector('#df-b50e4d46-9d11-43f1-bcda-18a03472e6ad button.colab-df-convert');\n",
              "        buttonEl.style.display =\n",
              "          google.colab.kernel.accessAllowed ? 'block' : 'none';\n",
              "\n",
              "        async function convertToInteractive(key) {\n",
              "          const element = document.querySelector('#df-b50e4d46-9d11-43f1-bcda-18a03472e6ad');\n",
              "          const dataTable =\n",
              "            await google.colab.kernel.invokeFunction('convertToInteractive',\n",
              "                                                     [key], {});\n",
              "          if (!dataTable) return;\n",
              "\n",
              "          const docLinkHtml = 'Like what you see? Visit the ' +\n",
              "            '<a target=\"_blank\" href=https://colab.research.google.com/notebooks/data_table.ipynb>data table notebook</a>'\n",
              "            + ' to learn more about interactive tables.';\n",
              "          element.innerHTML = '';\n",
              "          dataTable['output_type'] = 'display_data';\n",
              "          await google.colab.output.renderOutput(dataTable, element);\n",
              "          const docLink = document.createElement('div');\n",
              "          docLink.innerHTML = docLinkHtml;\n",
              "          element.appendChild(docLink);\n",
              "        }\n",
              "      </script>\n",
              "    </div>\n",
              "  </div>\n",
              "  "
            ]
          },
          "metadata": {},
          "execution_count": 3
        },
        {
          "output_type": "stream",
          "name": "stdout",
          "text": [
            "time: 888 ms (started: 2022-07-29 00:47:57 +00:00)\n"
          ]
        }
      ]
    },
    {
      "cell_type": "markdown",
      "source": [
        "##Pre-ML steps"
      ],
      "metadata": {
        "id": "4tj6mkiPns8P"
      }
    },
    {
      "cell_type": "code",
      "source": [
        "#Import Scikit-Optimize library.\n",
        "\n",
        "!pip install scikit-optimize\n",
        "import skopt\n",
        "from sklearn.model_selection import cross_val_score\n",
        "from sklearn.model_selection import RepeatedStratifiedKFold\n",
        "from sklearn.svm import SVC\n",
        "\n",
        "#print('skopt %s' % skopt.__version__)"
      ],
      "metadata": {
        "colab": {
          "base_uri": "https://localhost:8080/"
        },
        "id": "TDpGfYRqmn1Q",
        "outputId": "05890e06-d228-4cb3-e519-351117b43d1a"
      },
      "execution_count": null,
      "outputs": [
        {
          "output_type": "stream",
          "name": "stdout",
          "text": [
            "Looking in indexes: https://pypi.org/simple, https://us-python.pkg.dev/colab-wheels/public/simple/\n",
            "Collecting scikit-optimize\n",
            "  Downloading scikit_optimize-0.9.0-py2.py3-none-any.whl (100 kB)\n",
            "\u001b[K     |████████████████████████████████| 100 kB 3.8 MB/s \n",
            "\u001b[?25hRequirement already satisfied: scipy>=0.19.1 in /usr/local/lib/python3.7/dist-packages (from scikit-optimize) (1.7.3)\n",
            "Collecting pyaml>=16.9\n",
            "  Downloading pyaml-21.10.1-py2.py3-none-any.whl (24 kB)\n",
            "Requirement already satisfied: joblib>=0.11 in /usr/local/lib/python3.7/dist-packages (from scikit-optimize) (1.1.0)\n",
            "Requirement already satisfied: scikit-learn>=0.20.0 in /usr/local/lib/python3.7/dist-packages (from scikit-optimize) (1.0.2)\n",
            "Requirement already satisfied: numpy>=1.13.3 in /usr/local/lib/python3.7/dist-packages (from scikit-optimize) (1.21.6)\n",
            "Requirement already satisfied: PyYAML in /usr/local/lib/python3.7/dist-packages (from pyaml>=16.9->scikit-optimize) (3.13)\n",
            "Requirement already satisfied: threadpoolctl>=2.0.0 in /usr/local/lib/python3.7/dist-packages (from scikit-learn>=0.20.0->scikit-optimize) (3.1.0)\n",
            "Installing collected packages: pyaml, scikit-optimize\n",
            "Successfully installed pyaml-21.10.1 scikit-optimize-0.9.0\n",
            "time: 5.95 s (started: 2022-07-29 00:48:11 +00:00)\n"
          ]
        }
      ]
    },
    {
      "cell_type": "code",
      "source": [
        "#Check original score\n",
        "\n",
        "from numpy import mean,std\n",
        "\n",
        "clf = SVC()\n",
        "cv = RepeatedStratifiedKFold(n_splits=10, n_repeats=3, random_state=1)\n",
        "m_scores = cross_val_score(clf, X, y, scoring='accuracy', cv=cv, n_jobs=-1, error_score='raise')\n",
        "#print('Accuracy: %.3f (%.3f)' % (mean(m_scores), std(m_scores)))\n",
        "mean(m_scores)"
      ],
      "metadata": {
        "colab": {
          "base_uri": "https://localhost:8080/",
          "height": 235
        },
        "id": "2O-XrjeimwfE",
        "outputId": "a2099453-ab15-4261-b78c-a1bbfadd9c28"
      },
      "execution_count": null,
      "outputs": [
        {
          "output_type": "error",
          "ename": "NameError",
          "evalue": "ignored",
          "traceback": [
            "\u001b[0;31m---------------------------------------------------------------------------\u001b[0m",
            "\u001b[0;31mNameError\u001b[0m                                 Traceback (most recent call last)",
            "\u001b[0;32m<ipython-input-1-763afe956edc>\u001b[0m in \u001b[0;36m<module>\u001b[0;34m()\u001b[0m\n\u001b[1;32m      3\u001b[0m \u001b[0;32mfrom\u001b[0m \u001b[0mnumpy\u001b[0m \u001b[0;32mimport\u001b[0m \u001b[0mmean\u001b[0m\u001b[0;34m,\u001b[0m\u001b[0mstd\u001b[0m\u001b[0;34m\u001b[0m\u001b[0;34m\u001b[0m\u001b[0m\n\u001b[1;32m      4\u001b[0m \u001b[0;34m\u001b[0m\u001b[0m\n\u001b[0;32m----> 5\u001b[0;31m \u001b[0mclf\u001b[0m \u001b[0;34m=\u001b[0m \u001b[0mSVC\u001b[0m\u001b[0;34m(\u001b[0m\u001b[0;34m)\u001b[0m\u001b[0;34m\u001b[0m\u001b[0;34m\u001b[0m\u001b[0m\n\u001b[0m\u001b[1;32m      6\u001b[0m \u001b[0mcv\u001b[0m \u001b[0;34m=\u001b[0m \u001b[0mRepeatedStratifiedKFold\u001b[0m\u001b[0;34m(\u001b[0m\u001b[0mn_splits\u001b[0m\u001b[0;34m=\u001b[0m\u001b[0;36m10\u001b[0m\u001b[0;34m,\u001b[0m \u001b[0mn_repeats\u001b[0m\u001b[0;34m=\u001b[0m\u001b[0;36m3\u001b[0m\u001b[0;34m,\u001b[0m \u001b[0mrandom_state\u001b[0m\u001b[0;34m=\u001b[0m\u001b[0;36m1\u001b[0m\u001b[0;34m)\u001b[0m\u001b[0;34m\u001b[0m\u001b[0;34m\u001b[0m\u001b[0m\n\u001b[1;32m      7\u001b[0m \u001b[0mm_scores\u001b[0m \u001b[0;34m=\u001b[0m \u001b[0mcross_val_score\u001b[0m\u001b[0;34m(\u001b[0m\u001b[0mclf\u001b[0m\u001b[0;34m,\u001b[0m \u001b[0mX\u001b[0m\u001b[0;34m,\u001b[0m \u001b[0my\u001b[0m\u001b[0;34m,\u001b[0m \u001b[0mscoring\u001b[0m\u001b[0;34m=\u001b[0m\u001b[0;34m'accuracy'\u001b[0m\u001b[0;34m,\u001b[0m \u001b[0mcv\u001b[0m\u001b[0;34m=\u001b[0m\u001b[0mcv\u001b[0m\u001b[0;34m,\u001b[0m \u001b[0mn_jobs\u001b[0m\u001b[0;34m=\u001b[0m\u001b[0;34m-\u001b[0m\u001b[0;36m1\u001b[0m\u001b[0;34m,\u001b[0m \u001b[0merror_score\u001b[0m\u001b[0;34m=\u001b[0m\u001b[0;34m'raise'\u001b[0m\u001b[0;34m)\u001b[0m\u001b[0;34m\u001b[0m\u001b[0;34m\u001b[0m\u001b[0m\n",
            "\u001b[0;31mNameError\u001b[0m: name 'SVC' is not defined"
          ]
        }
      ]
    },
    {
      "cell_type": "markdown",
      "source": [
        "##Introduction to Minimizing Hyperparameters"
      ],
      "metadata": {
        "id": "xF80vOxmc6Dz"
      }
    },
    {
      "cell_type": "code",
      "source": [
        "#Grid Search (Small amount of hyperparameters)\n",
        "\n",
        "from sklearn.model_selection import GridSearchCV\n",
        "\n",
        "params1 = {\n",
        "    'C' : [0.1,1,2,3],\n",
        "    'gamma' : [0.1,1,2,3,4],\n",
        "    'degree' : [1,3,5],\n",
        "    'kernel' : ['poly', 'rbf', 'sigmoid']\n",
        "}\n",
        "\n",
        "grid = GridSearchCV(SVC(), params1, cv = cv)\n",
        "\n",
        "grid.fit(X,y)\n",
        "\n",
        "print(grid.best_score_)\n",
        "print(grid.best_params_)"
      ],
      "metadata": {
        "colab": {
          "base_uri": "https://localhost:8080/"
        },
        "id": "Gh83lQmm_3EN",
        "outputId": "e2de2d19-13c4-4fb9-fabf-16aaa189d2f3"
      },
      "execution_count": null,
      "outputs": [
        {
          "output_type": "stream",
          "name": "stdout",
          "text": [
            "0.9457142857142858\n",
            "{'C': 3, 'degree': 1, 'gamma': 0.1, 'kernel': 'rbf'}\n",
            "time: 1min 4s (started: 2022-07-28 15:35:45 +00:00)\n"
          ]
        }
      ]
    },
    {
      "cell_type": "code",
      "source": [
        "from skopt.space.space import Real, Categorical, Integer\n",
        "from skopt.utils import use_named_args\n",
        "from skopt import gp_minimize\n",
        "\n",
        "params = list()\n",
        "params.append(Real(1e-6, 100.0, 'log-uniform', name='C'))\n",
        "params.append(Categorical(['linear', 'poly', 'rbf', 'sigmoid'], name='kernel'))\n",
        "params.append(Integer(1, 5, name='degree'))\n",
        "params.append(Real(1e-6, 100.0, 'log-uniform', name='gamma'))"
      ],
      "metadata": {
        "id": "R5P8_bGJqbBD"
      },
      "execution_count": null,
      "outputs": []
    },
    {
      "cell_type": "code",
      "source": [
        "#Manual Tuning of Hyperparameters using skopt\n",
        "\n",
        "@use_named_args(params)\n",
        "def optimize_model(**params):\n",
        "  clf = SVC()\n",
        "  clf.set_params(**params)\n",
        "  cv = RepeatedStratifiedKFold(n_splits=10, n_repeats=3, random_state=1)\n",
        "  result = cross_val_score(clf, X, y, cv=cv, n_jobs=-1, scoring='accuracy')\n",
        "  avg_result = mean(result)\n",
        "  return 1.0 - avg_result\n",
        "\n",
        "best_model = gp_minimize(optimize_model, params)\n",
        "\n",
        "print('Best Accuracy: %.6f' % (1.0 - best_model.fun))\n",
        "#Order = C, kernel, degree, gamma\n",
        "print('Best Parameters: %s' % (best_model.x))\n"
      ],
      "metadata": {
        "colab": {
          "base_uri": "https://localhost:8080/"
        },
        "id": "IUVCcyIrnXTY",
        "outputId": "c8ee27b5-a006-4fbc-f93d-74b04dab7243"
      },
      "execution_count": null,
      "outputs": [
        {
          "output_type": "stream",
          "name": "stdout",
          "text": [
            "Best Accuracy: 0.952381\n",
            "Best Parameters: [7.844235604183496, 'rbf', 1, 0.05434269355079624]\n",
            "time: 2min 42s (started: 2022-07-27 23:59:35 +00:00)\n"
          ]
        }
      ]
    },
    {
      "cell_type": "code",
      "source": [
        "#Iteration 1 - Bayes\n",
        "from skopt.space.space import Real, Categorical, Integer\n",
        "from skopt.utils import use_named_args\n",
        "from skopt import BayesSearchCV\n",
        "\n",
        "params = dict()\n",
        "params['C'] = (1e-6, 100.0, 'log-uniform')\n",
        "params['gamma'] = (1e-6, 100.0, 'log-uniform')\n",
        "params['degree'] = (1,5)\n",
        "params['kernel'] = ['linear', 'poly', 'rbf', 'sigmoid']\n",
        "\n",
        "cv = RepeatedStratifiedKFold(n_splits=10, n_repeats=3, random_state=1)\n",
        "\n",
        "search = BayesSearchCV(estimator=SVC(), search_spaces=params, n_jobs=-1, cv=cv)#, scoring = 'accuracy')\n",
        "\n",
        "search.fit(X, y)\n",
        "\n",
        "print(search.best_score_)\n",
        "print(search.best_params_)"
      ],
      "metadata": {
        "colab": {
          "base_uri": "https://localhost:8080/"
        },
        "id": "v3bRBSVhvEMi",
        "outputId": "7ab47093-312d-4d0f-af31-ad908cc8a37c"
      },
      "execution_count": null,
      "outputs": [
        {
          "output_type": "stream",
          "name": "stdout",
          "text": [
            "0.9257142857142857\n",
            "OrderedDict([('C', 4.51096379491484e-06), ('degree', 2), ('gamma', 70.93273060027764), ('kernel', 'poly')])\n",
            "time: 2min 13s (started: 2022-07-28 00:02:43 +00:00)\n"
          ]
        }
      ]
    },
    {
      "cell_type": "code",
      "source": [
        "#Iteration 2 - Bayes\n",
        "from skopt.space.space import Real, Categorical, Integer\n",
        "from skopt.utils import use_named_args\n",
        "from skopt import BayesSearchCV\n",
        "\n",
        "params = dict()\n",
        "params['C'] = (1e-6, 100.0, 'log-uniform')\n",
        "params['gamma'] = (1e-6, 100.0, 'log-uniform')\n",
        "params['degree'] = (1,5)\n",
        "params['kernel'] = ['linear', 'poly', 'rbf', 'sigmoid']\n",
        "\n",
        "cv = RepeatedStratifiedKFold(n_splits=10, n_repeats=3, random_state=1)\n",
        "\n",
        "search = BayesSearchCV(estimator=SVC(), search_spaces=params, n_jobs=-1, cv=cv)#, scoring = 'accuracy')\n",
        "\n",
        "search.fit(X, y)\n",
        "\n",
        "print(search.best_score_)\n",
        "print(search.best_params_)"
      ],
      "metadata": {
        "colab": {
          "base_uri": "https://localhost:8080/"
        },
        "id": "jp6tZIzuH3lk",
        "outputId": "3623e550-1470-4621-e3b3-6c2467fc019b"
      },
      "execution_count": null,
      "outputs": [
        {
          "output_type": "stream",
          "name": "stdout",
          "text": [
            "0.9019047619047619\n",
            "OrderedDict([('C', 0.1458787854160873), ('degree', 2), ('gamma', 2.2706908732449245), ('kernel', 'poly')])\n",
            "time: 2min 12s (started: 2022-07-28 00:05:40 +00:00)\n"
          ]
        }
      ]
    },
    {
      "cell_type": "code",
      "source": [
        "#Iteration 3 - Bayes\n",
        "from skopt.space.space import Real, Categorical, Integer\n",
        "from skopt.utils import use_named_args\n",
        "from skopt import BayesSearchCV\n",
        "\n",
        "params = dict()\n",
        "params['C'] = Real(1e-6, 100.0, 'log-uniform')\n",
        "params['gamma'] = Real(1e-6, 100.0, 'log-uniform')\n",
        "params['degree'] = Integer(1,5)\n",
        "params['kernel'] = Categorical(['linear', 'poly', 'rbf', 'sigmoid'])\n",
        "\n",
        "cv = RepeatedStratifiedKFold(n_splits=10, n_repeats=3, random_state=1)\n",
        "\n",
        "search = BayesSearchCV(estimator=SVC(), search_spaces=params, n_jobs=-1, cv=cv)#, scoring = 'accuracy')\n",
        "\n",
        "search.fit(X, y)\n",
        "\n",
        "print(search.best_score_)\n",
        "print(search.best_params_)"
      ],
      "metadata": {
        "colab": {
          "base_uri": "https://localhost:8080/"
        },
        "id": "5a2dTQRL7TA4",
        "outputId": "94ca0f5d-9b31-43ee-b451-100e0e6d6a1a"
      },
      "execution_count": null,
      "outputs": [
        {
          "output_type": "stream",
          "name": "stdout",
          "text": [
            "0.9504761904761904\n",
            "OrderedDict([('C', 3.8414527357369823), ('degree', 5), ('gamma', 0.10416742900674887), ('kernel', 'rbf')])\n"
          ]
        }
      ]
    },
    {
      "cell_type": "markdown",
      "source": [
        "##Bayes Search vs GridSearch with large amounts of possible parameters"
      ],
      "metadata": {
        "id": "GT9tFfQd5C9D"
      }
    },
    {
      "cell_type": "code",
      "source": [
        "#Iteration - Many Hyperparameter Values (GridSearch) (Unrealistic - with respect to degree)\n",
        "from sklearn.model_selection import GridSearchCV\n",
        "\n",
        "params1 = {\n",
        "    'C' : [0.000001,0.000001,0.00001,0.0001,0.001,0.1,0.2,0.3,0.4,0.5,0.6,0.7,0.8],\n",
        "    'gamma' : [0.000001,0.000001,0.00001,0.0001,0.001,0.1,0.2,0.3,0.4,0.5,0.6,0.7,0.8],\n",
        "    'degree' : [0.000001,0.000001,0.00001,0.0001,0.001,0.1,0.2,0.3,0.4,0.5,0.6,0.7,0.8],\n",
        "    'kernel' : ['poly', 'rbf', 'sigmoid', 'linear']\n",
        "}\n",
        "\n",
        "cv = RepeatedStratifiedKFold(n_splits=10, n_repeats=3, random_state=1)\n",
        "\n",
        "grid = GridSearchCV(SVC(), params1, cv = cv)\n",
        "\n",
        "grid.fit(X,y)\n",
        "\n",
        "print(grid.best_score_)\n",
        "print(grid.best_params_)"
      ],
      "metadata": {
        "colab": {
          "base_uri": "https://localhost:8080/"
        },
        "id": "SaKjqvKJpegp",
        "outputId": "e8ded52f-0a96-4ae4-b0f1-8a925462889c"
      },
      "execution_count": null,
      "outputs": [
        {
          "output_type": "stream",
          "name": "stdout",
          "text": [
            "0.9447619047619048\n",
            "{'C': 0.8, 'degree': 1e-06, 'gamma': 0.2, 'kernel': 'rbf'}\n",
            "time: 39min 7s (started: 2022-07-28 12:52:46 +00:00)\n"
          ]
        }
      ]
    },
    {
      "cell_type": "code",
      "source": [
        "#Iteration - Many Hyperparameter Values (GridSearch) (Unrealistic - with respect to degree)\n",
        "from sklearn.model_selection import GridSearchCV\n",
        "\n",
        "params1 = {\n",
        "    'C' : [0.0000001,0.000001,0.00001,0.0001,0.001,0.1,0.2,0.3,0.4,0.5,0.6,0.7,0.8],\n",
        "    'gamma' : [0.0000001,0.000001,0.00001,0.0001,0.001,0.1,0.2,0.3,0.4,0.5,0.6,0.7,0.8],\n",
        "    'degree' : [0.0000001,0.000001,0.00001,0.0001,0.001,0.1,0.2,0.3,0.4,0.5,0.6,0.7,0.8],\n",
        "    'kernel' : ['poly', 'rbf', 'sigmoid', 'linear']\n",
        "}\n",
        "\n",
        "grid = GridSearchCV(SVC(), params1, cv = cv)\n",
        "\n",
        "grid.fit(X,y)\n",
        "\n",
        "print(grid.best_score_)\n",
        "print(grid.best_params_)"
      ],
      "metadata": {
        "colab": {
          "base_uri": "https://localhost:8080/"
        },
        "id": "2X9ZEDMTVfEb",
        "outputId": "d668030b-ef6e-4be4-9751-6a9cb7de08cd"
      },
      "execution_count": null,
      "outputs": [
        {
          "output_type": "stream",
          "name": "stdout",
          "text": [
            "0.9447619047619048\n",
            "{'C': 0.8, 'degree': 1e-07, 'gamma': 0.2, 'kernel': 'rbf'}\n",
            "time: 43min 23s (started: 2022-07-28 01:05:41 +00:00)\n"
          ]
        }
      ]
    },
    {
      "cell_type": "code",
      "source": [
        "#Iteration - Many Hyperparameter Values (Bayes) (Unrealistic - with respect to degree)\n",
        "from skopt.space.space import Real, Categorical, Integer\n",
        "from skopt.utils import use_named_args\n",
        "from skopt import BayesSearchCV\n",
        "\n",
        "params = dict()\n",
        "params['C'] = (1e-6, 100.0, 'log-uniform')\n",
        "params['gamma'] = (1e-6, 100.0, 'log-uniform')\n",
        "params['degree'] = (1e-6,100.0, 'log-uniform')\n",
        "params['kernel'] = ['linear', 'poly', 'rbf', 'sigmoid']\n",
        "\n",
        "cv = RepeatedStratifiedKFold(n_splits=10, n_repeats=3, random_state=1)\n",
        "\n",
        "search = BayesSearchCV(estimator=SVC(), search_spaces=params, n_jobs=-1, cv=cv)\n",
        "\n",
        "search.fit(X, y)\n",
        "\n",
        "print(search.best_score_)\n",
        "print(search.best_params_)"
      ],
      "metadata": {
        "colab": {
          "base_uri": "https://localhost:8080/"
        },
        "id": "Wc_hl5WrLAwT",
        "outputId": "5c3dd781-2b95-4112-8a8d-609198344ceb"
      },
      "execution_count": null,
      "outputs": [
        {
          "output_type": "stream",
          "name": "stdout",
          "text": [
            "0.9495238095238094\n",
            "OrderedDict([('C', 1.751423170930387), ('degree', 0.02559216724871635), ('gamma', 0.34157708512609775), ('kernel', 'rbf')])\n",
            "time: 2min (started: 2022-07-28 01:02:46 +00:00)\n"
          ]
        }
      ]
    },
    {
      "cell_type": "code",
      "source": [
        "#Iteration - Many Hyperparameter Values (GridSearch) (Realistic - with respect to degree)\n",
        "from sklearn.model_selection import GridSearchCV\n",
        "\n",
        "params1 = {\n",
        "    'C' : [0.000001,0.000001,0.00001,0.0001,0.001,0.1,0.2,0.3,0.4,0.5,0.6,0.7,0.8],\n",
        "    'gamma' : [0.000001,0.000001,0.00001,0.0001,0.001,0.1,0.2,0.3,0.4,0.5,0.6,0.7,0.8],\n",
        "    'degree' : [1,2,3,4,5,6,7,8,9,10,11,12,13],\n",
        "    'kernel' : ['poly', 'rbf', 'sigmoid', 'linear']\n",
        "}\n",
        "\n",
        "cv = RepeatedStratifiedKFold(n_splits=10, n_repeats=3, random_state=1)\n",
        "\n",
        "grid = GridSearchCV(SVC(), params1, cv = cv)\n",
        "\n",
        "grid.fit(X,y)\n",
        "\n",
        "print(grid.best_score_)\n",
        "print(grid.best_params_)"
      ],
      "metadata": {
        "colab": {
          "base_uri": "https://localhost:8080/"
        },
        "id": "58QVGiZfAxtj",
        "outputId": "1841da3b-9565-4cf0-c771-c0f7edd20ab9"
      },
      "execution_count": null,
      "outputs": [
        {
          "output_type": "stream",
          "name": "stdout",
          "text": [
            "0.9447619047619048\n",
            "{'C': 0.8, 'degree': 1, 'gamma': 0.2, 'kernel': 'rbf'}\n",
            "time: 40min (started: 2022-07-28 13:34:10 +00:00)\n"
          ]
        }
      ]
    },
    {
      "cell_type": "code",
      "source": [
        "#Iteration - Many Hyperparameter Values (Bayes) (Realistic - with respect to degree) Run 1\n",
        "from skopt.space.space import Real, Categorical, Integer\n",
        "from skopt.utils import use_named_args\n",
        "from skopt import BayesSearchCV\n",
        "\n",
        "params = dict()\n",
        "params['C'] = Real(1e-6, 100.0, 'log-uniform')\n",
        "params['gamma'] = Real(1e-6, 100.0, 'log-uniform')\n",
        "params['degree'] = Integer(1,13, 'log-uniform')\n",
        "params['kernel'] = Categorical(['linear', 'poly', 'rbf', 'sigmoid'])\n",
        "\n",
        "cv = RepeatedStratifiedKFold(n_splits=10, n_repeats=3, random_state=1)\n",
        "\n",
        "search = BayesSearchCV(estimator=SVC(), search_spaces=params, n_jobs=-1, cv=cv)\n",
        "\n",
        "search.fit(X, y)\n",
        "\n",
        "print(search.best_score_)\n",
        "print(search.best_params_)"
      ],
      "metadata": {
        "colab": {
          "base_uri": "https://localhost:8080/"
        },
        "id": "G1PqisqAKzy1",
        "outputId": "61bd63aa-342e-4d03-bf55-f744ab0b5d7c"
      },
      "execution_count": null,
      "outputs": [
        {
          "output_type": "stream",
          "name": "stdout",
          "text": [
            "0.92\n",
            "OrderedDict([('C', 14.8309183283125), ('degree', 2), ('gamma', 0.11201207390489717), ('kernel', 'poly')])\n",
            "time: 2min 9s (started: 2022-07-28 15:14:22 +00:00)\n"
          ]
        }
      ]
    },
    {
      "cell_type": "code",
      "source": [
        "#Iteration - Many Hyperparameter Values (Bayes) (Realistic - with respect to degree) Run 2\n",
        "from skopt.space.space import Real, Categorical, Integer\n",
        "from skopt.utils import use_named_args\n",
        "from skopt import BayesSearchCV\n",
        "\n",
        "params = dict()\n",
        "params['C'] = Real(1e-6, 100.0, 'log-uniform')\n",
        "params['gamma'] = Real(1e-6, 100.0, 'log-uniform')\n",
        "params['degree'] = Integer(1,13, 'log-uniform')\n",
        "params['kernel'] = Categorical(['linear', 'poly', 'rbf', 'sigmoid'])\n",
        "\n",
        "cv = RepeatedStratifiedKFold(n_splits=10, n_repeats=3, random_state=1)\n",
        "\n",
        "search = BayesSearchCV(estimator=SVC(), search_spaces=params, n_jobs=-1, cv=cv)\n",
        "\n",
        "search.fit(X, y)\n",
        "\n",
        "print(search.best_score_)\n",
        "print(search.best_params_)"
      ],
      "metadata": {
        "colab": {
          "base_uri": "https://localhost:8080/"
        },
        "id": "qF0fTMw-ZCni",
        "outputId": "ed20b9eb-d75f-4797-befb-93411a1371e7"
      },
      "execution_count": null,
      "outputs": [
        {
          "output_type": "stream",
          "name": "stdout",
          "text": [
            "0.9533333333333334\n",
            "OrderedDict([('C', 7.764876756309389), ('degree', 7), ('gamma', 0.05988399800276573), ('kernel', 'rbf')])\n",
            "time: 2min 9s (started: 2022-07-28 15:19:37 +00:00)\n"
          ]
        }
      ]
    }
  ]
}